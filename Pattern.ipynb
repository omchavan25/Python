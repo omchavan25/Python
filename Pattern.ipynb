{
 "cells": [
  {
   "cell_type": "code",
   "execution_count": 1,
   "id": "677513a8-79ec-47e6-934b-055cefb14363",
   "metadata": {},
   "outputs": [
    {
     "name": "stdout",
     "output_type": "stream",
     "text": [
      "*****"
     ]
    }
   ],
   "source": [
    "for i in range(1,6):\n",
    "    print(\"*\",end = \"\")"
   ]
  },
  {
   "cell_type": "code",
   "execution_count": 2,
   "id": "b026a5a2-0a9c-4120-9146-1cff4d76e6e9",
   "metadata": {},
   "outputs": [
    {
     "name": "stdout",
     "output_type": "stream",
     "text": [
      "*\n",
      "**\n",
      "***\n",
      "****\n",
      "*****\n"
     ]
    }
   ],
   "source": [
    "for i in range(1,6):\n",
    "    for j in range(1,i+1):\n",
    "            print(\"*\",end =\"\")\n",
    "    print(\"\")"
   ]
  },
  {
   "cell_type": "code",
   "execution_count": 7,
   "id": "0bd4ff4d-14e4-4b01-b655-895b9c6b2753",
   "metadata": {},
   "outputs": [
    {
     "name": "stdout",
     "output_type": "stream",
     "text": [
      "*****\n",
      "****\n",
      "***\n",
      "**\n",
      "*\n"
     ]
    }
   ],
   "source": [
    "for i in range(5,0,-1):\n",
    "    for j in range(1,i+1):\n",
    "            print(\"*\",end =\"\")\n",
    "    print(\"\")"
   ]
  },
  {
   "cell_type": "code",
   "execution_count": 9,
   "id": "53f50f04-06d1-482f-ba84-fd8edbd9ef5f",
   "metadata": {},
   "outputs": [
    {
     "name": "stdout",
     "output_type": "stream",
     "text": [
      "    *\n",
      "   **\n",
      "  ***\n",
      " ****\n",
      "*****\n"
     ]
    }
   ],
   "source": [
    "for i in range(1,6):\n",
    "    for k in range(1,6-i):\n",
    "        print(\" \",end =\"\")\n",
    "    for j in range(1,i+1):\n",
    "        print(\"*\",end =\"\")\n",
    "    print(\"\")"
   ]
  },
  {
   "cell_type": "code",
   "execution_count": 13,
   "id": "d2dca790-c5bc-4a3b-8f91-3c322a597fc7",
   "metadata": {},
   "outputs": [
    {
     "name": "stdout",
     "output_type": "stream",
     "text": [
      "*****\n",
      " ****\n",
      "  ***\n",
      "   **\n",
      "    *\n"
     ]
    }
   ],
   "source": [
    "n=6\n",
    "for i in range(1,6):\n",
    "    for k in range(1,i):\n",
    "        print(\" \",end=\"\")\n",
    "    for j in range(i,6):\n",
    "        print(\"*\", end=\"\")\n",
    "    print(\"\")"
   ]
  },
  {
   "cell_type": "code",
   "execution_count": 6,
   "id": "89a977d5-8bc5-492f-9228-4a983e3d7b6b",
   "metadata": {},
   "outputs": [
    {
     "name": "stdout",
     "output_type": "stream",
     "text": [
      "   * \n",
      "  * * \n",
      " * * * \n",
      "* * * * \n"
     ]
    }
   ],
   "source": [
    "for i in range(1,5):\n",
    "    for k in range(1,5-i):\n",
    "        print(\" \", end=\"\")\n",
    "    for j in range(1,i+1):\n",
    "        print(\"* \", end=\"\")\n",
    "    print()"
   ]
  },
  {
   "cell_type": "code",
   "execution_count": 19,
   "id": "242bc022-4921-4168-b9f1-f865bcbbcfa0",
   "metadata": {},
   "outputs": [
    {
     "name": "stdout",
     "output_type": "stream",
     "text": [
      "* * * * * \n",
      " * * * * \n",
      "  * * * \n",
      "   * * \n",
      "    * \n"
     ]
    }
   ],
   "source": [
    "for i in range(1,6):\n",
    "    for k in range(1,i):\n",
    "        print(\" \",end=\"\")\n",
    "    for j in range(1,7-i):\n",
    "        print(\"* \",end=\"\")\n",
    "    print(\"\")\n",
    "        "
   ]
  },
  {
   "cell_type": "code",
   "execution_count": 25,
   "id": "d31f31c7-3c37-4cff-a1e3-a44238e8dc49",
   "metadata": {},
   "outputs": [
    {
     "name": "stdout",
     "output_type": "stream",
     "text": [
      "* * * * * \n",
      "  * * * \n",
      "    * \n"
     ]
    }
   ],
   "source": [
    "for i in range(1,6,2):\n",
    "    for k in range(1,i):\n",
    "        print(\" \",end=\"\")\n",
    "    for j in range(1,7-i):\n",
    "        print(\"* \",end=\"\")\n",
    "    print(\"\")"
   ]
  },
  {
   "cell_type": "code",
   "execution_count": 28,
   "id": "fa9973db-2c9e-4bde-9413-fa8ea4fba88e",
   "metadata": {},
   "outputs": [
    {
     "name": "stdout",
     "output_type": "stream",
     "text": [
      "*******\n",
      "******\n",
      "*****\n",
      "****\n",
      "***\n",
      "**\n",
      "*\n"
     ]
    }
   ],
   "source": [
    "for i in range(7,0,-1):\n",
    "    for j in range(1,i+1):\n",
    "        print(\"*\",end =\"\")\n",
    "    k=7\n",
    "    print(\"\")"
   ]
  },
  {
   "cell_type": "code",
   "execution_count": 38,
   "id": "ee86635c-ee65-4f2b-88e6-b0ef00bff991",
   "metadata": {},
   "outputs": [
    {
     "name": "stdout",
     "output_type": "stream",
     "text": [
      "7777777 \n",
      "666666 \n",
      "55555 \n",
      "4444 \n",
      "333 \n",
      "22 \n",
      "1 \n",
      " \n"
     ]
    }
   ],
   "source": [
    "k=7\n",
    "for i in range(1,9):\n",
    "    for j in range(1,9-i):\n",
    "        print(k,end=\"\")\n",
    "    print(\" \")\n",
    "    k=k-1"
   ]
  },
  {
   "cell_type": "code",
   "execution_count": 43,
   "id": "b12f8d85-d62e-434c-b1f8-84c6a6ad27bb",
   "metadata": {},
   "outputs": [
    {
     "name": "stdout",
     "output_type": "stream",
     "text": [
      "AAAAAAA \n",
      "BBBBBB \n",
      "CCCCC \n",
      "DDDD \n",
      "EEE \n",
      "FF \n",
      "G \n"
     ]
    }
   ],
   "source": [
    "k=65\n",
    "for i in range(1,8):\n",
    "    for j in range(1,9-i):\n",
    "        print(chr(k),end=\"\")\n",
    "    print(\" \")\n",
    "    k=k+1"
   ]
  },
  {
   "cell_type": "code",
   "execution_count": 52,
   "id": "b29f0f28-4646-4860-9370-20d5bd72d137",
   "metadata": {},
   "outputs": [
    {
     "name": "stdout",
     "output_type": "stream",
     "text": [
      "   A  \n",
      "  B B  \n",
      " C C C  \n",
      "D D D D  \n"
     ]
    }
   ],
   "source": [
    "l=65\n",
    "for i in range(1,5):\n",
    "    for k in range(1,5-i):\n",
    "        print(\" \", end=\"\")\n",
    "    for j in range(1,i+1):\n",
    "        print(chr(l), end=\" \")\n",
    "    print(\" \")\n",
    "    l=l+1"
   ]
  },
  {
   "cell_type": "code",
   "execution_count": null,
   "id": "ab048713-5679-40f8-b9f1-beb936dd414c",
   "metadata": {},
   "outputs": [],
   "source": []
  }
 ],
 "metadata": {
  "kernelspec": {
   "display_name": "Python 3 (ipykernel)",
   "language": "python",
   "name": "python3"
  },
  "language_info": {
   "codemirror_mode": {
    "name": "ipython",
    "version": 3
   },
   "file_extension": ".py",
   "mimetype": "text/x-python",
   "name": "python",
   "nbconvert_exporter": "python",
   "pygments_lexer": "ipython3",
   "version": "3.11.7"
  }
 },
 "nbformat": 4,
 "nbformat_minor": 5
}
